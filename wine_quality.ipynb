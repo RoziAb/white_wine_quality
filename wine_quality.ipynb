{
  "nbformat": 4,
  "nbformat_minor": 0,
  "metadata": {
    "colab": {
      "name": "wine_quality.ipynb",
      "provenance": [],
      "collapsed_sections": [],
      "include_colab_link": true
    },
    "kernelspec": {
      "display_name": "Python 3",
      "language": "python",
      "name": "python3"
    },
    "language_info": {
      "codemirror_mode": {
        "name": "ipython",
        "version": 3
      },
      "file_extension": ".py",
      "mimetype": "text/x-python",
      "name": "python",
      "nbconvert_exporter": "python",
      "pygments_lexer": "ipython3",
      "version": "3.7.6"
    }
  },
  "cells": [
    {
      "cell_type": "markdown",
      "metadata": {
        "id": "view-in-github",
        "colab_type": "text"
      },
      "source": [
        "<a href=\"https://colab.research.google.com/github/RoziAb/white_wine_quality/blob/main/wine_quality.ipynb\" target=\"_parent\"><img src=\"https://colab.research.google.com/assets/colab-badge.svg\" alt=\"Open In Colab\"/></a>"
      ]
    },
    {
      "cell_type": "markdown",
      "metadata": {
        "id": "dVdNzqt3wlXJ"
      },
      "source": [
        "Dataset obtained from: Dua, D. and Graff, C. (2019). UCI Machine Learning Repository [http://archive.ics.uci.edu/ml]. Irvine, CA: University of California, School of Information and Computer Science.\n"
      ]
    },
    {
      "cell_type": "markdown",
      "metadata": {
        "id": "rElbJBYuqv4P"
      },
      "source": [
        "Check data type of attributes."
      ]
    },
    {
      "cell_type": "code",
      "metadata": {
        "colab": {
          "base_uri": "https://localhost:8080/"
        },
        "id": "aTXAFqPYs_iD",
        "outputId": "496442e9-3a34-456a-911c-54978a028ee3"
      },
      "source": [
        "import pandas as pd\n",
        "df = pd.read_csv(filepath_or_buffer = 'http://archive.ics.uci.edu/ml/machine-learning-databases/wine-quality/winequality-white.csv', sep = ';')\n",
        "print(df.dtypes)"
      ],
      "execution_count": 1,
      "outputs": [
        {
          "output_type": "stream",
          "text": [
            "fixed acidity           float64\n",
            "volatile acidity        float64\n",
            "citric acid             float64\n",
            "residual sugar          float64\n",
            "chlorides               float64\n",
            "free sulfur dioxide     float64\n",
            "total sulfur dioxide    float64\n",
            "density                 float64\n",
            "pH                      float64\n",
            "sulphates               float64\n",
            "alcohol                 float64\n",
            "quality                   int64\n",
            "dtype: object\n"
          ],
          "name": "stdout"
        }
      ]
    },
    {
      "cell_type": "markdown",
      "metadata": {
        "id": "EZmtTVxE0XbB"
      },
      "source": [
        "Check for missing values."
      ]
    },
    {
      "cell_type": "code",
      "metadata": {
        "colab": {
          "base_uri": "https://localhost:8080/"
        },
        "id": "n3IVIN1-0a3n",
        "outputId": "89b22a74-5f81-44ba-c62d-988ae3594ea9"
      },
      "source": [
        "#As seen below, there are no missing values in any of the columns\n",
        "df.isnull().sum()"
      ],
      "execution_count": 2,
      "outputs": [
        {
          "output_type": "execute_result",
          "data": {
            "text/plain": [
              "fixed acidity           0\n",
              "volatile acidity        0\n",
              "citric acid             0\n",
              "residual sugar          0\n",
              "chlorides               0\n",
              "free sulfur dioxide     0\n",
              "total sulfur dioxide    0\n",
              "density                 0\n",
              "pH                      0\n",
              "sulphates               0\n",
              "alcohol                 0\n",
              "quality                 0\n",
              "dtype: int64"
            ]
          },
          "metadata": {},
          "execution_count": 2
        }
      ]
    },
    {
      "cell_type": "markdown",
      "metadata": {
        "id": "HUVn7P0v1pAb"
      },
      "source": [
        "Check the correlation between predictor variables."
      ]
    },
    {
      "cell_type": "code",
      "metadata": {
        "colab": {
          "base_uri": "https://localhost:8080/",
          "height": 696
        },
        "id": "QA4QelhE1w3w",
        "outputId": "51ec2210-b94e-438e-bbd6-67c641fd072a"
      },
      "source": [
        "import seaborn as sns\n",
        "import matplotlib.pyplot as plt\n",
        "df_predictor = df.copy()                    #make changes to the copy and not the original df\n",
        "del df_predictor['quality']\n",
        "Cors = df_predictor.corr()\n",
        "#heatmap plot of the correlations:\n",
        "fig, ax = plt.subplots(figsize=(10,10))     #to make the heatmap plot bigger, so correlation values show up clearly.\n",
        "sns.heatmap(Cors, annot=True)               #annot=True, to also see the numeric values of correlations"
      ],
      "execution_count": 3,
      "outputs": [
        {
          "output_type": "execute_result",
          "data": {
            "text/plain": [
              "<matplotlib.axes._subplots.AxesSubplot at 0x7f51f3d750d0>"
            ]
          },
          "metadata": {},
          "execution_count": 3
        },
        {
          "output_type": "display_data",
          "data": {
            "image/png": "[encoded data removed]",
            "text/plain": [
              "<Figure size 720x720 with 2 Axes>"
            ]
          },
          "metadata": {
            "needs_background": "light"
          }
        }
      ]
    },
    {
      "cell_type": "markdown",
      "metadata": {
        "id": "RVZOuxzoC3Rp"
      },
      "source": [
        "Plot of distribution of the dependent variable (Quality)."
      ]
    },
    {
      "cell_type": "code",
      "metadata": {
        "colab": {
          "base_uri": "https://localhost:8080/",
          "height": 309
        },
        "id": "dmRShuB9DEJj",
        "outputId": "71f182d8-d929-4264-82f7-61bbe610ee16"
      },
      "source": [
        "df.groupby('quality').size().plot.bar()\n",
        "plt.title('Frequency Distribution of Wine Quality')\n",
        "plt.xlabel('Quality')\n",
        "plt.ylabel('Frequency')"
      ],
      "execution_count": 4,
      "outputs": [
        {
          "output_type": "execute_result",
          "data": {
            "text/plain": [
              "Text(0, 0.5, 'Frequency')"
            ]
          },
          "metadata": {},
          "execution_count": 4
        },
        {
          "output_type": "display_data",
          "data": {
            "image/png": "[encoded data removed]",
            "text/plain": [
              "<Figure size 432x288 with 1 Axes>"
            ]
          },
          "metadata": {
            "needs_background": "light"
          }
        }
      ]
    },
    {
      "cell_type": "markdown",
      "metadata": {
        "id": "0iwTJ9nMDFw-"
      },
      "source": [
        "Reduce the levels of quality to 3 (3-class problem):\n",
        "- 0 (low quality)\n",
        "- 1 (medium quality)\n",
        "- 2 (high quality)"
      ]
    },
    {
      "cell_type": "code",
      "metadata": {
        "colab": {
          "base_uri": "https://localhost:8080/"
        },
        "id": "hZGLGvEgDWo2",
        "outputId": "12119d06-2fe8-4890-b408-19a891764037"
      },
      "source": [
        "fun = lambda data: 0 if data < 5 else 1 if data < 7 else 2\n",
        "df['quality'] = df['quality'].apply(fun)\n",
        "print(df['quality'].value_counts())     # to verify there are only 3 levels now"
      ],
      "execution_count": 5,
      "outputs": [
        {
          "output_type": "stream",
          "text": [
            "1    3655\n",
            "2    1060\n",
            "0     183\n",
            "Name: quality, dtype: int64\n"
          ],
          "name": "stdout"
        }
      ]
    },
    {
      "cell_type": "markdown",
      "metadata": {
        "id": "Zm5-0exjDZGE"
      },
      "source": [
        "Normalize numeric attributes."
      ]
    },
    {
      "cell_type": "code",
      "metadata": {
        "colab": {
          "base_uri": "https://localhost:8080/",
          "height": 312
        },
        "id": "KcWsnXgcDf5W",
        "outputId": "7aa29b8a-2475-448b-f398-5c5333331f90"
      },
      "source": [
        "def normalize(x):\n",
        "  return ((x - min(x)) / (max(x) - min(x))) \n",
        "X = list(set(list(df)) - set(['quality']))      #make a list of columns minus \"quality\" \n",
        "wine_n = df.iloc[:,].copy()                     #make a copy, so you don't change the original df\n",
        "wine_n[X] = wine_n[X].apply(normalize)          #apply \"normalize\" to predictor variables\n",
        "wine_n.describe()                               #All attributes except \"quality\" are normalized now (min=0, max=1)"
      ],
      "execution_count": 6,
      "outputs": [
        {
          "output_type": "execute_result",
          "data": {
            "text/html": [
              "<div>\n",
              "<style scoped>\n",
              "    .dataframe tbody tr th:only-of-type {\n",
              "        vertical-align: middle;\n",
              "    }\n",
              "\n",
              "    .dataframe tbody tr th {\n",
              "        vertical-align: top;\n",
              "    }\n",
              "\n",
              "    .dataframe thead th {\n",
              "        text-align: right;\n",
              "    }\n",
              "</style>\n",
              "<table border=\"1\" class=\"dataframe\">\n",
              "  <thead>\n",
              "    <tr style=\"text-align: right;\">\n",
              "      <th></th>\n",
              "      <th>fixed acidity</th>\n",
              "      <th>volatile acidity</th>\n",
              "      <th>citric acid</th>\n",
              "      <th>residual sugar</th>\n",
              "      <th>chlorides</th>\n",
              "      <th>free sulfur dioxide</th>\n",
              "      <th>total sulfur dioxide</th>\n",
              "      <th>density</th>\n",
              "      <th>pH</th>\n",
              "      <th>sulphates</th>\n",
              "      <th>alcohol</th>\n",
              "      <th>quality</th>\n",
              "    </tr>\n",
              "  </thead>\n",
              "  <tbody>\n",
              "    <tr>\n",
              "      <th>count</th>\n",
              "      <td>4898.000000</td>\n",
              "      <td>4898.000000</td>\n",
              "      <td>4898.000000</td>\n",
              "      <td>4898.000000</td>\n",
              "      <td>4898.000000</td>\n",
              "      <td>4898.000000</td>\n",
              "      <td>4898.000000</td>\n",
              "      <td>4898.000000</td>\n",
              "      <td>4898.000000</td>\n",
              "      <td>4898.000000</td>\n",
              "      <td>4898.000000</td>\n",
              "      <td>4898.000000</td>\n",
              "    </tr>\n",
              "    <tr>\n",
              "      <th>mean</th>\n",
              "      <td>0.293730</td>\n",
              "      <td>0.194354</td>\n",
              "      <td>0.201320</td>\n",
              "      <td>0.088825</td>\n",
              "      <td>0.109117</td>\n",
              "      <td>0.116056</td>\n",
              "      <td>0.300141</td>\n",
              "      <td>0.133360</td>\n",
              "      <td>0.425697</td>\n",
              "      <td>0.313775</td>\n",
              "      <td>0.405527</td>\n",
              "      <td>1.179053</td>\n",
              "    </tr>\n",
              "    <tr>\n",
              "      <th>std</th>\n",
              "      <td>0.081141</td>\n",
              "      <td>0.098818</td>\n",
              "      <td>0.072903</td>\n",
              "      <td>0.077792</td>\n",
              "      <td>0.064831</td>\n",
              "      <td>0.059258</td>\n",
              "      <td>0.098603</td>\n",
              "      <td>0.057662</td>\n",
              "      <td>0.137273</td>\n",
              "      <td>0.132704</td>\n",
              "      <td>0.198487</td>\n",
              "      <td>0.470917</td>\n",
              "    </tr>\n",
              "    <tr>\n",
              "      <th>min</th>\n",
              "      <td>0.000000</td>\n",
              "      <td>0.000000</td>\n",
              "      <td>0.000000</td>\n",
              "      <td>0.000000</td>\n",
              "      <td>0.000000</td>\n",
              "      <td>0.000000</td>\n",
              "      <td>0.000000</td>\n",
              "      <td>0.000000</td>\n",
              "      <td>0.000000</td>\n",
              "      <td>0.000000</td>\n",
              "      <td>0.000000</td>\n",
              "      <td>0.000000</td>\n",
              "    </tr>\n",
              "    <tr>\n",
              "      <th>25%</th>\n",
              "      <td>0.240385</td>\n",
              "      <td>0.127451</td>\n",
              "      <td>0.162651</td>\n",
              "      <td>0.016871</td>\n",
              "      <td>0.080119</td>\n",
              "      <td>0.073171</td>\n",
              "      <td>0.229698</td>\n",
              "      <td>0.088924</td>\n",
              "      <td>0.336364</td>\n",
              "      <td>0.220930</td>\n",
              "      <td>0.241935</td>\n",
              "      <td>1.000000</td>\n",
              "    </tr>\n",
              "    <tr>\n",
              "      <th>50%</th>\n",
              "      <td>0.288462</td>\n",
              "      <td>0.176471</td>\n",
              "      <td>0.192771</td>\n",
              "      <td>0.070552</td>\n",
              "      <td>0.100890</td>\n",
              "      <td>0.111498</td>\n",
              "      <td>0.290023</td>\n",
              "      <td>0.127820</td>\n",
              "      <td>0.418182</td>\n",
              "      <td>0.290698</td>\n",
              "      <td>0.387097</td>\n",
              "      <td>1.000000</td>\n",
              "    </tr>\n",
              "    <tr>\n",
              "      <th>75%</th>\n",
              "      <td>0.336538</td>\n",
              "      <td>0.235294</td>\n",
              "      <td>0.234940</td>\n",
              "      <td>0.142638</td>\n",
              "      <td>0.121662</td>\n",
              "      <td>0.153310</td>\n",
              "      <td>0.366589</td>\n",
              "      <td>0.173318</td>\n",
              "      <td>0.509091</td>\n",
              "      <td>0.383721</td>\n",
              "      <td>0.548387</td>\n",
              "      <td>1.000000</td>\n",
              "    </tr>\n",
              "    <tr>\n",
              "      <th>max</th>\n",
              "      <td>1.000000</td>\n",
              "      <td>1.000000</td>\n",
              "      <td>1.000000</td>\n",
              "      <td>1.000000</td>\n",
              "      <td>1.000000</td>\n",
              "      <td>1.000000</td>\n",
              "      <td>1.000000</td>\n",
              "      <td>1.000000</td>\n",
              "      <td>1.000000</td>\n",
              "      <td>1.000000</td>\n",
              "      <td>1.000000</td>\n",
              "      <td>2.000000</td>\n",
              "    </tr>\n",
              "  </tbody>\n",
              "</table>\n",
              "</div>"
            ],
            "text/plain": [
              "       fixed acidity  volatile acidity  ...      alcohol      quality\n",
              "count    4898.000000       4898.000000  ...  4898.000000  4898.000000\n",
              "mean        0.293730          0.194354  ...     0.405527     1.179053\n",
              "std         0.081141          0.098818  ...     0.198487     0.470917\n",
              "min         0.000000          0.000000  ...     0.000000     0.000000\n",
              "25%         0.240385          0.127451  ...     0.241935     1.000000\n",
              "50%         0.288462          0.176471  ...     0.387097     1.000000\n",
              "75%         0.336538          0.235294  ...     0.548387     1.000000\n",
              "max         1.000000          1.000000  ...     1.000000     2.000000\n",
              "\n",
              "[8 rows x 12 columns]"
            ]
          },
          "metadata": {},
          "execution_count": 6
        }
      ]
    },
    {
      "cell_type": "markdown",
      "metadata": {
        "id": "1vV5JSWvDiyt"
      },
      "source": [
        "Division to training and test sets."
      ]
    },
    {
      "cell_type": "code",
      "metadata": {
        "id": "fbKG2dQsDnvB"
      },
      "source": [
        "#Using a 70% train, 30% test split:\n",
        "from sklearn.model_selection import train_test_split\n",
        "X_train, X_test, y_train, y_test = train_test_split(wine_n[X], wine_n['quality'], test_size=0.30, random_state=123)"
      ],
      "execution_count": 7,
      "outputs": []
    },
    {
      "cell_type": "markdown",
      "metadata": {
        "id": "JdqqbV0yDsUC"
      },
      "source": [
        "Using the KNN algorithm to predict the quality of white wine using predictor variables."
      ]
    },
    {
      "cell_type": "code",
      "metadata": {
        "colab": {
          "base_uri": "https://localhost:8080/"
        },
        "id": "CU24O70MD0Ur",
        "outputId": "0dbe025b-e305-42d6-fb32-02069067b91e"
      },
      "source": [
        "from sklearn.neighbors import KNeighborsClassifier  \n",
        "knn = KNeighborsClassifier(n_neighbors=5)      #number of neighbors used is 5\n",
        "knn.fit(X_train, y_train)                      #building the model using the training data\n",
        "#Pedictions:\n",
        "y_pred = knn.predict(X_test)  \n",
        "y_pred[:100]                                    #showing the fist 100 predicted classes for the test set        "
      ],
      "execution_count": 8,
      "outputs": [
        {
          "output_type": "execute_result",
          "data": {
            "text/plain": [
              "array([1, 2, 2, 2, 1, 1, 1, 1, 2, 1, 0, 1, 2, 1, 1, 1, 2, 1, 1, 1, 1, 1,\n",
              "       1, 1, 1, 2, 1, 1, 1, 1, 1, 1, 2, 1, 1, 1, 1, 1, 1, 1, 1, 1, 1, 2,\n",
              "       1, 1, 1, 1, 1, 1, 1, 1, 1, 1, 1, 2, 2, 1, 2, 1, 1, 1, 1, 1, 1, 2,\n",
              "       1, 1, 1, 1, 1, 1, 1, 1, 1, 1, 1, 1, 1, 2, 1, 1, 1, 1, 1, 2, 1, 1,\n",
              "       1, 1, 1, 2, 1, 1, 2, 1, 1, 1, 1, 1])"
            ]
          },
          "metadata": {},
          "execution_count": 8
        }
      ]
    },
    {
      "cell_type": "markdown",
      "metadata": {
        "id": "C5gR9S4xD1Xb"
      },
      "source": [
        "Confusion matrix."
      ]
    },
    {
      "cell_type": "code",
      "metadata": {
        "colab": {
          "base_uri": "https://localhost:8080/",
          "height": 300
        },
        "id": "w3CEZM91D7yq",
        "outputId": "234537a1-a0e0-4bf8-e2b4-4ebe5d142455"
      },
      "source": [
        "from sklearn.metrics import plot_confusion_matrix\n",
        "plot_confusion_matrix(knn, X_test, y_test, labels=[0, 1, 2], values_format = '') "
      ],
      "execution_count": 9,
      "outputs": [
        {
          "output_type": "execute_result",
          "data": {
            "text/plain": [
              "<sklearn.metrics._plot.confusion_matrix.ConfusionMatrixDisplay at 0x7f51e676aa50>"
            ]
          },
          "metadata": {},
          "execution_count": 9
        },
        {
          "output_type": "display_data",
          "data": {
            "image/png": "[encoded data removed]",
            "text/plain": [
              "<Figure size 432x288 with 2 Axes>"
            ]
          },
          "metadata": {
            "needs_background": "light"
          }
        }
      ]
    },
    {
      "cell_type": "markdown",
      "metadata": {
        "id": "Z3FjbpilD8nO"
      },
      "source": [
        "Model performance: Reporting Accuracy, Sensitivity, and Specificity."
      ]
    },
    {
      "cell_type": "code",
      "metadata": {
        "colab": {
          "base_uri": "https://localhost:8080/"
        },
        "id": "-7bED7lsEC_1",
        "outputId": "a0a6792b-562f-4733-d3ff-fba8a1d50bbe"
      },
      "source": [
        " from sklearn.metrics import confusion_matrix\n",
        "CM = confusion_matrix(y_test, y_pred)\n",
        "True0 = CM[0][0]      # Actual class is 0 and predicted as 0.\n",
        "True1 = CM[1][1]\n",
        "True2 = CM[2][2]\n",
        "Error01 = CM[0][1]    # Actual class is 0 and predicted as 1.\n",
        "Error02 = CM[0][2]\n",
        "Error10 = CM[1][0]\n",
        "Error12 = CM[1][2]\n",
        "Error20 = CM[2][0]\n",
        "Error21 = CM[2][1]\n",
        "Accuracy = (True0 + True1 + True2)/(True0 + True1 + True2 + Error01 + Error02 + Error10 + Error12 + Error20 +Error21)\n",
        "##Sensitivity and Specificity for quality level 0 (low quality):\n",
        "Sensitivity0 = True0/(True0 + Error01 + Error02)\n",
        "Specificity0 = (True1 + Error12 + Error21 + True2)/(True1 + Error12 + Error21 + True2 + Error10 + Error20)\n",
        "##Sensitivity and Specificity for quality level 1 (medium quality):\n",
        "Sensitivity1 = True1/(True1 + Error10 + Error12)\n",
        "Specificity1 = (True0 + Error02 + Error20 + True2)/(True0 + Error02 + Error20 + True2 + Error01 + Error21)\n",
        "##Sensitivity and Specificity for quality level 2 (high quality):\n",
        "Sensitivity2 = True2/(True2 + Error20 + Error21)\n",
        "Specificity2 = (True0 + Error01 + Error10 + True1)/(True0 + Error01 + Error10 + True1 + Error12 + Error02)\n",
        "print(\"Accuracy: \", round(Accuracy, 4)) \n",
        "print(\"\")\n",
        "print(\"Sensitivity for level 0: \", round(Sensitivity0, 4))\n",
        "print(\"Specificity for level 0: \", round(Specificity0, 4)) \n",
        "print(\"\")\n",
        "print(\"Sensitivity for level 1: \", round(Sensitivity1, 4))\n",
        "print(\"Specificity for level 1: \", round(Specificity1, 4)) \n",
        "print(\"\")\n",
        "print(\"Sensitivity for level 2: \", round(Sensitivity2, 4))\n",
        "print(\"Specificity for level 2: \", round(Specificity2, 4)) "
      ],
      "execution_count": 10,
      "outputs": [
        {
          "output_type": "stream",
          "text": [
            "Accuracy:  0.7912\n",
            "\n",
            "Sensitivity for level 0:  0.0417\n",
            "Specificity for level 0:  0.9944\n",
            "\n",
            "Sensitivity for level 1:  0.885\n",
            "Specificity for level 1:  0.4824\n",
            "\n",
            "Sensitivity for level 2:  0.5514\n",
            "Specificity for level 2:  0.8956\n"
          ],
          "name": "stdout"
        }
      ]
    },
    {
      "cell_type": "code",
      "metadata": {
        "id": "bVnFhaWjAdAw",
        "colab": {
          "base_uri": "https://localhost:8080/"
        },
        "outputId": "48030288-86d1-4b28-dfea-c659b1d02b9a"
      },
      "source": [
        "# Alternative way to obtain accuracy using sklearn's accuracy_score function.\n",
        "from sklearn.metrics import accuracy_score\n",
        "print(accuracy_score(y_test, y_pred))"
      ],
      "execution_count": 11,
      "outputs": [
        {
          "output_type": "stream",
          "text": [
            "0.791156462585034\n"
          ],
          "name": "stdout"
        }
      ]
    },
    {
      "cell_type": "code",
      "metadata": {
        "id": "gE-dcRX2Hz9Z",
        "colab": {
          "base_uri": "https://localhost:8080/"
        },
        "outputId": "787f8dd9-4592-4ef2-b39f-fdbbb6440cf6"
      },
      "source": [
        "# Aternative way to obtain sensitivities (recalls) using sklearn's classification_report() function.\n",
        "from sklearn.metrics import classification_report\n",
        "print(classification_report(y_test, y_pred))"
      ],
      "execution_count": 12,
      "outputs": [
        {
          "output_type": "stream",
          "text": [
            "              precision    recall  f1-score   support\n",
            "\n",
            "           0       0.20      0.04      0.07        48\n",
            "           1       0.85      0.88      0.87      1130\n",
            "           2       0.57      0.55      0.56       292\n",
            "\n",
            "    accuracy                           0.79      1470\n",
            "   macro avg       0.54      0.49      0.50      1470\n",
            "weighted avg       0.77      0.79      0.78      1470\n",
            "\n"
          ],
          "name": "stdout"
        }
      ]
    }
  ]
}